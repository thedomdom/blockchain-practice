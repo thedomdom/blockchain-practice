{
 "cells": [
  {
   "cell_type": "code",
   "execution_count": 1,
   "metadata": {},
   "outputs": [],
   "source": [
    "# Import the modules we need\n",
    "from IPython.core.debugger import set_trace\n",
    "\n",
    "from Crypto.PublicKey import ECC\n",
    "from Crypto.Signature import DSS\n",
    "from Crypto.Hash import SHA256\n",
    "\n",
    "import binascii\n",
    "\n",
    "from time import time\n",
    "import random\n",
    "import  jdc\n",
    "\n",
    "from collections import OrderedDict\n",
    "import hashlib\n",
    "import json"
   ]
  },
  {
   "cell_type": "markdown",
   "metadata": {},
   "source": [
    "## 1. Wallet\n",
    "\n",
    "Zusatzinfo: Es ist wichtig die Intuition hinter der asymetrischen Kryptografie zu verstehen. Wer sich darunter nichts vorstellen kann und in der Vorlesung nicht folgen konnte, dem helfen folgende Videos vielleicht weiter:\n",
    "* [Private Key / Public Key Kryptografie allg.](https://www.youtube.com/watch?v=GSIDS_lvRv4)\n",
    "* [Eliptic Curve](https://www.youtube.com/watch?v=NF1pwjL9-DE)\n",
    "\n",
    "\n",
    "Wallets haben zwei wesentliche Funktionen: \n",
    "1. Guthabenverwaltung \n",
    "2. Transaktionsdurchführung\n",
    "\n",
    "Die Basis für beide Funktionen stellt der `Private Key` dar. Dieser entspricht einfach einem zufällig erzeugten (sehr langen) Passwort in einem bestimmten Format. Vom `Private Key` kann sowohl der `Public Key` abgeleitet, als auch Transaktionen signiert werden (wird später eingeführt)."
   ]
  },
  {
   "cell_type": "code",
   "execution_count": 2,
   "metadata": {
    "collapsed": true
   },
   "outputs": [],
   "source": [
    "class Wallet:\n",
    "    # Basic Constructor\n",
    "    def __init__(self):\n",
    "        keypair = self.generate_keypair()\n",
    "        self.private_key = keypair['private_key']\n",
    "        self.public_key = keypair['public_key']\n",
    "\n",
    "    def generate_keypair(self):\n",
    "        # TODO:\n",
    "        # 1. Generate the private key (randomly)\n",
    "        # 2. Return the private_key and public_key in\n",
    "        # hexadecimal as dictionary\n",
    "        private_key = ECC.generate(curve=\"P-256\")\n",
    "        keypair = {\n",
    "            \"private_key\": binascii.hexlify(private_key.export_key(format=\"DER\")).decode(\"utf-8\"),\n",
    "            \"public_key\": binascii.hexlify(private_key.public_key().export_key(format=\"DER\")).decode(\"utf-8\")\n",
    "        }\n",
    "        return keypair\n"
   ]
  },
  {
   "cell_type": "code",
   "execution_count": 3,
   "metadata": {},
   "outputs": [
    {
     "name": "stdout",
     "output_type": "stream",
     "text": [
      "Alice's Wallet:\n308187020100301306072a8648ce3d020106082a8648ce3d030107046d306b020101042004712fa6588cc024579e6e16cf9610f774d780568c96592f1e3285640a65ed77a14403420004c09adbceec8529afa226268ac405dd378d279d4a96566a39134ebd49e307054332961b1e33567435400aac564d0f73d5290acec333e261019aa0e8a95fa4e8c3\n\n\n3059301306072a8648ce3d020106082a8648ce3d03010703420004c09adbceec8529afa226268ac405dd378d279d4a96566a39134ebd49e307054332961b1e33567435400aac564d0f73d5290acec333e261019aa0e8a95fa4e8c3\nBob's Wallet:\n308187020100301306072a8648ce3d020106082a8648ce3d030107046d306b02010104202b8387c3fb84f74769652de8c1bf71590daab2502d71853fafc087ab79e699e2a14403420004e3ae8418630359efe450cd4dfa7fe0f4da8f960baaa1dddbd176daa19ea5428bd0aeadbce8e0e207909d4708e3c20c794114f4b788c554b3a633c0ae0955dfdb\n\n\n3059301306072a8648ce3d020106082a8648ce3d03010703420004e3ae8418630359efe450cd4dfa7fe0f4da8f960baaa1dddbd176daa19ea5428bd0aeadbce8e0e207909d4708e3c20c794114f4b788c554b3a633c0ae0955dfdb\n"
     ]
    }
   ],
   "source": [
    "# Testing it:\n",
    "\n",
    "wallet_alice = Wallet()\n",
    "wallet_bob = Wallet()\n",
    "\n",
    "print(\"Alice's Wallet:\")\n",
    "print(wallet_alice.private_key)\n",
    "print('\\n')\n",
    "print(wallet_alice.public_key)\n",
    "print(\"Bob's Wallet:\")\n",
    "print(wallet_bob.private_key)\n",
    "print('\\n')\n",
    "print(wallet_bob.public_key)"
   ]
  },
  {
   "cell_type": "markdown",
   "metadata": {},
   "source": [
    "#### Wallet zu einem bestimmten Private Key\n",
    "Wir können die Klasse nun so erweitern, dass wir für den Fall eines schon existierenden `Private Key` ebenfalls eine Wallet erzeugt werden kann. Beachte, dass die `ECC.import_key()` Funktion immer einen binary Input benötigt, wir speichern die Keys aber in der Regel im hexadecimalen Format als String ab. Deshalb is die Konvertierung durch binascii.unhexlify() notwendig. D.h. der `private_key_str` wird bei uns immer im hexadecimalen Format als String dem Wallet Konstruktor übergeben."
   ]
  },
  {
   "cell_type": "code",
   "execution_count": 4,
   "metadata": {
    "collapsed": true
   },
   "outputs": [],
   "source": [
    "class Wallet:\n",
    "    def __init__(self, private_key_str=None):\n",
    "        keypair = self.generate_keypair(private_key_str)\n",
    "        self.private_key = keypair['private_key']\n",
    "        self.public_key = keypair['public_key']\n",
    "\n",
    "    @staticmethod\n",
    "    def generate_keypair(private_key_str):\n",
    "        # TODO:\n",
    "        # 1. Copy paste the generate_keypair content from above\n",
    "        # 2. Extend the function such that whenever the private_key_str is\n",
    "        # non empty, use the private_key_str to generate the keypair\n",
    "        # in the required format (same as above). Otherwise just generate \n",
    "        # a new private_key.\n",
    "        if private_key_str is None:\n",
    "            private_key = ECC.generate(curve=\"P-256\")\n",
    "        else:\n",
    "            private_key = ECC.import_key(binascii.unhexlify(private_key_str))\n",
    "\n",
    "        keypair = {\n",
    "            \"private_key\": binascii.hexlify(private_key.export_key(format=\"DER\")).decode(\"utf-8\"),\n",
    "            \"public_key\": binascii.hexlify(private_key.public_key().export_key(format=\"DER\")).decode(\"utf-8\")\n",
    "        }\n",
    "\n",
    "        return keypair\n"
   ]
  },
  {
   "cell_type": "code",
   "execution_count": 5,
   "metadata": {},
   "outputs": [
    {
     "name": "stdout",
     "output_type": "stream",
     "text": [
      "Same Keys\n"
     ]
    }
   ],
   "source": [
    "# Testing it:\n",
    "# TODO:\n",
    "# 1. Extract the Alice's private key from her wallet\n",
    "# 2. Generate a new wallet using Alice's private key and\n",
    "# 3. Check if the public keys from the new wallet and Alice's\n",
    "# old wallet are the same.\n",
    "\n",
    "# 1.\n",
    "private_key_alice_str = wallet_alice.private_key\n",
    "wallet_alice_2 = Wallet(private_key_alice_str)\n",
    "\n",
    "if wallet_alice_2.public_key == wallet_alice.public_key:\n",
    "    print(\"Same Keys\")\n",
    "else:\n",
    "    print(\"Error\")\n"
   ]
  },
  {
   "cell_type": "markdown",
   "metadata": {},
   "source": [
    "## 2. Transaktionen\n",
    "\n",
    "Eine Transaktion besteht fundamental aus Inputs und Outputs. Da ein Input letztlich nichts anderes als eine Referenz auf einen zuvor erzeugten Output ist, genügt es ausschließlich die `TransactionOutput` Klasse zu definieren. (Die konkrete Gestaltung der `Transaction` Klasse wird später behandelt, nachdem die `TransactionOutput` Klasse beschrieben wurde.)\n",
    "\n",
    "#### Transaction Output\n",
    "Die grundlegenden Bausteine unserer Währung sind *Transaction Outputs*. Noch nicht ausgegegebene *Transaction Outputs* (kurz auch *UTXOs*) definieren die Geldmenge im System. D.h. die Summe aller *UTXOs* zu einem Zeitpunkt entspricht der gesamten Menge an verfügbaren *Fed Coins* (kurz FC) zu diesem Zeitpunkt. Ein Transaktionsinput ist einfach eine Referenz (per ID) auf einen noch nicht ausgegebenen *Transaction Output*, d.h. Input und Output können letztlich durch die selbe Klasse modelliert werden. Wir sprechen im Folgenden immer von *Transaction Output*, haben aber im gleichzeitig im Hinterkopf, dass ein Input letztlich nur eine Referenz auf einen *Transaction Output* ist. Ein *Transaction Output* soll folgenden Informationen beinhalten:\n",
    "\n",
    "1. Zeitstempel\n",
    "2. Besitzer/Empfänger\n",
    "3. Wert\n",
    "4. Id\n",
    "\n",
    "Damit ein *Transaction Output* eindeutig ist (theoretisch könnte zweimal genau der gleiche Output zum gleichen Zeitpunkt generiert werden - praktisch aber sehr unwahrscheinlich, dass dieser Fall eintritt), fügen wir noch ein Feld mit einem Zufallswert (random) hinzu.\n",
    "\n",
    "#### Hash eines TransactionOutputs\n",
    "\n",
    "Zusatzinfo: Die genaue Funktionsweise des SH-Algorithmus, den wir zum hashen verdwenden, wird in diesem [video](https://www.youtube.com/watch?v=DMtFhACPnTY) erklärt.\n",
    "\n",
    "Wir wollen, dass jeder *Transaction Output* eine eindeutige ID hat die an dessen Inhalt gekoppelt ist. D.h. wenn sich der Inhalt verändert, soll sich auch die ID verändern. Zusätzlich soll es unmöglich sein, durch die ID auf den Inhalt schließen zu können. Hierzu verwenden wir eine Hashfunktion. Die Hashfunktion benötigt als Input einen beliebig langen `String` und gibt einen Hash mit festgelegter Länge als Output zurück. Weil es nicht trivial ist ein generisches Pythonobjekt direkt in einen `String` umzuwandeln, gehen wir über den Umweg eines sogenannten OrderedDictionary's (`OrderedDict`). Aus jedem `OrderedDict` kann einfach ein String erzeugt werden (z.B. im `json` Format). D.h. um den Hash eines `TransactionOutput` Objekts zu erzeugen, müssen wir das Objekt\n",
    "1. In ein `OrderedDict` umwandeln, \n",
    "2. Das `OrderedDict` in einen `String` umwandeln und \n",
    "3. Den Hashwert des `Strings` berechnen.  \n",
    "\n",
    "Es ist sinnvoll die beiden Schritte 2 und 3 in eine Funktion auszulagern, weil wir die beiden Schritte in genau dieser Form für sämtliche Bestandteile unserer Kryptowährung (z.B. Blocks) widerverwenden können. Schritt 1 wird innerhalb der Klasse `TransactionOutput` implementiert, da sich der Schritt zwischen den einzelnen Objekttypen unserer Kryptowährung jeweils unterscheidet.\n",
    "\n",
    "#### *Zusatzinfo: Defaultwerte der Parameter*\n",
    "Die Parameter, die in der Implemetierung einer Methode mit Default-Werten initialisiert werden, müssen immer am Ende der Parameterliste stehen."
   ]
  },
  {
   "cell_type": "code",
   "execution_count": 6,
   "metadata": {},
   "outputs": [
    {
     "ename": "NameError",
     "evalue": "name 'hash_stuff' is not defined",
     "traceback": [
      "\u001b[0;31m---------------------------------------------------------------------------\u001b[0m",
      "\u001b[0;31mNameError\u001b[0m                                 Traceback (most recent call last)",
      "\u001b[0;32m<ipython-input-6-454017f057fd>\u001b[0m in \u001b[0;36m<module>\u001b[0;34m\u001b[0m\n\u001b[0;32m----> 1\u001b[0;31m \u001b[0mprint\u001b[0m\u001b[0;34m(\u001b[0m\u001b[0mhash_stuff\u001b[0m\u001b[0;34m(\u001b[0m\u001b[0;34m\"Dominik Wunderlich\"\u001b[0m\u001b[0;34m)\u001b[0m\u001b[0;34m)\u001b[0m\u001b[0;34m\u001b[0m\u001b[0;34m\u001b[0m\u001b[0m\n\u001b[0m\u001b[1;32m      2\u001b[0m \u001b[0mprint\u001b[0m\u001b[0;34m(\u001b[0m\u001b[0mhash_stuff\u001b[0m\u001b[0;34m(\u001b[0m\u001b[0;34m\"Dominik J. Wunderlich\"\u001b[0m\u001b[0;34m)\u001b[0m\u001b[0;34m)\u001b[0m\u001b[0;34m\u001b[0m\u001b[0;34m\u001b[0m\u001b[0m\n",
      "\u001b[0;31mNameError\u001b[0m: name 'hash_stuff' is not defined"
     ],
     "output_type": "error"
    }
   ],
   "source": [
    "print(hash_stuff(\"Dominik Wunderlich\"))\n",
    "print(hash_stuff(\"Dominik J. Wunderlich\"))"
   ]
  },
  {
   "cell_type": "code",
   "execution_count": 7,
   "metadata": {
    "collapsed": true
   },
   "outputs": [],
   "source": [
    "def hash_stuff(ordered_dict_of_stuff):\n",
    "    # Creates a SHA-256 hash of a the ordered_dict_of_stuff\n",
    "\n",
    "    # Create a string representation of the ordered dict \n",
    "    # (via a json object)\n",
    "    stuff_string = json.dumps(ordered_dict_of_stuff).encode('utf8')\n",
    "    # Return the hexadecimal 256 bit hash of the string\n",
    "    return hashlib.sha256(stuff_string).hexdigest()\n",
    "\n",
    "\n",
    "class TransactionOutput:\n",
    "    def __init__(self, recipient_public_key, value, random_val=None, id=None, timestamp=None):\n",
    "        \n",
    "        self.recipient = recipient_public_key  # This defines the owner of the coins\n",
    "        self.value = value  # Simply the value of the output\n",
    "\n",
    "        # Timestamp is none if new output is created, \n",
    "        # not none if old one is referenced/recreated\n",
    "        if timestamp is None:\n",
    "            self.time = time()\n",
    "        else:\n",
    "            self.time = timestamp\n",
    "\n",
    "        # We need the random_val so that each output is guaranteed to be unique, even for same t.\n",
    "        # I.e., in theory, if two TransactionOutputs (for the same recipient) \n",
    "        # are generated at the exact same time we still want to be able to distinguish them.\n",
    "        if random_val is None:\n",
    "            # self.random = 0\n",
    "            self.random = random.randint(0, 10000000000000)\n",
    "        else:\n",
    "            # self.random = 0\n",
    "            self.random = random_val\n",
    "\n",
    "        # If it's a new transaction calculate the hash,\n",
    "        # if it's an existing one read the hash from the argument given at initialization.\n",
    "        if id is None:\n",
    "            self.id = hash_stuff(self.odict_transaction_output())\n",
    "        else:\n",
    "            self.id = id\n",
    "\n",
    "    # A hash function needs some String as input. \n",
    "    # To get a String from a TO object (not the entire one)\n",
    "    # we use a OrderedDict representation which can be converted into a String.\n",
    "    def odict_transaction_output(self):\n",
    "        # TODO:\n",
    "        # Return an OrderedDict with time, random, recipient, \n",
    "        # value (in that order)\n",
    "        transaction_output_odict = OrderedDict({\n",
    "            \"time\": self.time,\n",
    "            \"random\": self.random,\n",
    "            \"recipient\": self.recipient,\n",
    "            \"value\": self.value\n",
    "        })\n",
    "        return transaction_output_odict\n",
    "\n",
    "    def get_full_odict(self):\n",
    "        # TODO:\n",
    "        # Return an OrderedDict with time, random, recipient, \n",
    "        # value AND Id (in that order)\n",
    "        response = self.odict_transaction_output()\n",
    "        response[\"id\"] = self.id\n",
    "        return response\n"
   ]
  },
  {
   "cell_type": "code",
   "execution_count": 8,
   "metadata": {},
   "outputs": [
    {
     "name": "stdout",
     "output_type": "stream",
     "text": [
      "46710000249f86b71b4435bf843d2db1d2a480415a978c3678a2727da3d9fcab\n"
     ]
    }
   ],
   "source": [
    "# Testing it:\n",
    "# If you run this code multiple times, the output below should always change\n",
    "# Try setting self.random = 0 in the constructor and check if it still does \n",
    "# (it should due to the timestamp)\n",
    "transaction_output_to_alice = TransactionOutput(wallet_alice.public_key, 10)\n",
    "print(transaction_output_to_alice.id)"
   ]
  },
  {
   "cell_type": "code",
   "execution_count": 9,
   "metadata": {},
   "outputs": [
    {
     "name": "stdout",
     "output_type": "stream",
     "text": [
      "OrderedDict([('time', 1541759881.9408698), ('random', 537161824421), ('recipient', '3059301306072a8648ce3d020106082a8648ce3d03010703420004c09adbceec8529afa226268ac405dd378d279d4a96566a39134ebd49e307054332961b1e33567435400aac564d0f73d5290acec333e261019aa0e8a95fa4e8c3'), ('value', 10), ('id', '46710000249f86b71b4435bf843d2db1d2a480415a978c3678a2727da3d9fcab')])\n"
     ]
    }
   ],
   "source": [
    "print(transaction_output_to_alice.get_full_odict())"
   ]
  },
  {
   "cell_type": "markdown",
   "metadata": {},
   "source": [
    "#### Transaction\n",
    "\n",
    "Zusätzlich zu den fundamentalen Bestandteilen, den Inputs und Outputs, wird in einer Transaktion auch noch die Idendität des Senders und eine Signatur gespeichert. Damit eine Transaktion gültig ist, muss die Summe der Inputs gleich der Summe der Outputs sein. Das bedeutet, wenn Bob eine Banane von Alice für 5 FC kauft und dies mit einem Input von 10 FC bezahlen will, so muss er für die Gültigkeit einer Transaktion die restlichen 5 FC wieder an sich selbst zurücküberweisen. \n",
    "\n",
    "Zusätzlich wird für die Gültigkeit einer Transaktion gefordert, dass alle Inputs zum Zeitpunkt der Aufnahmen in die Blockchain im Besitz des Senders sind und die Signatur mit der Idendität des Senders übereinstimmt.\n",
    "\n",
    "Da die Besitzverhältnisse der FC in der Blockchain erfasst werden, wird der die Besitzverhältnisse referenzierende Teil erst in der nächsten Veranstaltung ergänzt, da in dieser Veranstaltung dann auch die Blockchain eingeführt wird.\n"
   ]
  },
  {
   "cell_type": "code",
   "execution_count": 10,
   "metadata": {
    "collapsed": true
   },
   "outputs": [],
   "source": [
    "class Transaction:\n",
    "    def __init__(self, sender_pub_key, inputs, outputs, timestamp=None, signature=None, transaction_id=None):\n",
    "        # Note: This is somehow similar to the initialization\n",
    "        # of TransactionOutput, except of the fact that there \n",
    "        # are different 'fields' in the Transaction class.\n",
    "        self.sender = sender_pub_key\n",
    "        self.inputs = inputs  # list of IDs referring to UTXOs\n",
    "        self.outputs = outputs  # OrderedDict with id:TransactionOutput\n",
    "\n",
    "        if timestamp is None:\n",
    "            self.timestamp = time()  # include, to not have a hash collision for similar transactions\n",
    "        else:\n",
    "            self.timestamp = timestamp\n",
    "\n",
    "        # Signature and ID are (re)created when the transaction is signed\n",
    "        # Note: The coinbase transaction has no signature\n",
    "        if signature is None:\n",
    "            self.signature = ''\n",
    "        else:\n",
    "            self.signature = signature\n",
    "\n",
    "        if transaction_id is None:\n",
    "            self.id = self.hash_transaction()\n",
    "        else:\n",
    "            self.id = transaction_id\n",
    "\n",
    "    def odict_transaction(self):\n",
    "        # TODO:\n",
    "        # Create an OrderedDict representation of the Transaction\n",
    "        # We need this to sign it later on, therefore the \n",
    "        # signature is not included in the OrderedDict.\n",
    "        # Order: timestamp,sender,inputs,outputs (odict itself)\n",
    "        outputs_odict = OrderedDict()\n",
    "        for output in self.outputs.values():\n",
    "            outputs_odict[output.id] = output.get_full_odict()\n",
    "\n",
    "        transaction_odict = OrderedDict({\n",
    "            \"timestamp\": self.timestamp,\n",
    "            \"sender\": self.sender,\n",
    "            \"inputs\": self.inputs,\n",
    "            \"outputs\": outputs_odict\n",
    "        })\n",
    "\n",
    "        return transaction_odict\n",
    "\n",
    "    def hash_transaction(self):\n",
    "        # Creates a hash of the transaction\n",
    "        # We need this extra function since we have to\n",
    "        # add the signature to the OrderedDict object\n",
    "        # manually. Otherwise we could simply use the hash_stuff()\n",
    "        # from above directly.\n",
    "\n",
    "        transaction_dict = self.odict_transaction()\n",
    "        transaction_dict['signature'] = self.signature\n",
    "        transaction_string = json.dumps(transaction_dict).encode()\n",
    "        \n",
    "        return hashlib.sha256(transaction_string).hexdigest()\n",
    "\n",
    "    def get_full_odict(self):\n",
    "        # TODO:\n",
    "        # Return a complete OrderedDict of the Transaction.\n",
    "        # Order: timestamp,sender,inputs,outputs (odict itself)\n",
    "        # signature, id\n",
    "        \n",
    "        response = self.odict_transaction()\n",
    "        response[\"signature\"] = self.signature\n",
    "        response[\"id\"] = self.id\n",
    "\n",
    "        return response\n"
   ]
  },
  {
   "cell_type": "code",
   "execution_count": 11,
   "metadata": {},
   "outputs": [],
   "source": [
    "# Testing the initialization part:\n",
    "# Idea: send coins from Alice to Bob, i.e., Alice buys a coffee \n",
    "# from Bob for 5 FC.\n",
    "# TODO:\n",
    "# 1. Use the TO belonging to Alice from the \n",
    "# `transaction_output_to_alice` from above.\n",
    "# 2. Create two TOs with each 5 FC, one belonging to Bob\n",
    "# (price of the coffee) and the other one\n",
    "# belonging to Alice (change). \n",
    "# 3. Create an OrderedDict of theses two TOs with id:TO,\n",
    "# since this is the required input format for the transaction.\n",
    "# 4. Create the transaction.\n",
    "\n",
    "transaction_output_to_bob = TransactionOutput(wallet_bob.public_key, 5)\n",
    "transaction_output_to_alice_2 = TransactionOutput(wallet_alice.public_key, 5)\n",
    "\n",
    "outputs_od = OrderedDict({\n",
    "    \"transaction_output_to_bob\": transaction_output_to_bob,\n",
    "    \"transaction_output_to_alice_2\": transaction_output_to_alice_2\n",
    "})\n",
    "\n",
    "transaction_test = Transaction(wallet_alice.public_key, [transaction_output_to_alice.id], outputs_od)"
   ]
  },
  {
   "cell_type": "code",
   "execution_count": 12,
   "metadata": {
    "collapsed": true
   },
   "outputs": [],
   "source": [
    "%%add_to Transaction\n",
    "\n",
    "def sign_transaction(self, private_key):\n",
    "    # TODO:\n",
    "    # Sign a transaction using the private_key and return the signature\n",
    "    # 1. Import he key in the right format\n",
    "    # 2. Create an instance oif the signer using the private key (DSS)\n",
    "    # 3. Create the hash of  the message to sign\n",
    "    # 4. Use the signer and the message to create the signature\n",
    "    # 5. set self.signature\n",
    "    # 6. Set the ID of the transaction after self.signature is set\n",
    "    # 7. Return the signature\n",
    "        \n",
    "    pass\n",
    "    \n",
    "def verify_transaction_signature(self):\n",
    "    # TODO:\n",
    "    # Check if the transaction signature is valid,\n",
    "    # i.e. does the signature match the Transaction object.\n",
    "    # 1. Create a verifier instance using the public key of the sender\n",
    "    # 2. Create the hash of the message\n",
    "    # 3. Try to verify the signature using the verifier and the hash of\n",
    "    # the message\n",
    "    # 4. Return either True or False depending on the verification outcome\n",
    "    # Note: In case the signature is not verified,\n",
    "    # verifier.verify(SOMEHASH,SOMESIGNATURE) throws and error.\n",
    "    \n",
    "    pass\n",
    "\n",
    "def verify_transaction_id(self):\n",
    "    # Check if the id matched the Transaction content\n",
    "     \n",
    "    if self.id == self.hash_transaction():\n",
    "        return True\n",
    "\n",
    "    return False"
   ]
  },
  {
   "cell_type": "code",
   "execution_count": 13,
   "metadata": {},
   "outputs": [],
   "source": [
    "# Testing  verify_transaction_signature() part (1):\n",
    "# TODO:\n",
    "# 1. Sign the Transaction transaction_alice_to_bob \n",
    "# using the right private_key (the one that coresponds\n",
    "# the sender's public key).\n",
    "# 2. Check if the id of the transactio changed after signing\n",
    "# 3. Verify the signature\n",
    "\n",
    "\n"
   ]
  },
  {
   "cell_type": "code",
   "execution_count": null,
   "metadata": {},
   "outputs": [],
   "source": [
    "# Testing the verify_transaction_signature() part (2):\n",
    "# TODO:\n",
    "# Use a wrong key to sign the transaction and check the result\n",
    "\n",
    "\n"
   ]
  },
  {
   "cell_type": "code",
   "execution_count": null,
   "metadata": {},
   "outputs": [],
   "source": [
    "# Testing the verify_transaction_id() part (1):\n",
    "# Sign it with the wrong signature \n",
    "# to get a wrong signature (for test reasons)\n",
    "transaction_alice_to_bob.sign_transaction(wallet_bob.private_key)\n",
    "id_with_wrong_signature = transaction_alice_to_bob.id\n",
    "\n",
    "# Sign it with the right signature and test the id (actually trivial):\n",
    "transaction_alice_to_bob.sign_transaction(wallet_alice.private_key)\n",
    "print(transaction_alice_to_bob.verify_transaction_id())"
   ]
  },
  {
   "cell_type": "code",
   "execution_count": null,
   "metadata": {},
   "outputs": [],
   "source": [
    "# Testing the verify_transaction_id() part (2):\n",
    "# Now assign the wrong id and test again:\n",
    "transaction_alice_to_bob.id = id_with_wrong_signature\n",
    "print(transaction_alice_to_bob.verify_transaction_id())"
   ]
  },
  {
   "cell_type": "markdown",
   "metadata": {},
   "source": [
    "## *Zusatz: Auslagerung abgeschlossener Programmteile*\n",
    "\n",
    "Um den Überblick über den Code nicht zu verlieren, macht es in vielen Fällen Sinn, mehr oder weniger abgeschlossene Abschnitte des Codes in eigene \\*.py Dateien auszulagern. Kleinere Änderungen am Code können auch in diesen Dateien durchgeführt werden. Um Programmcode zu testen, können wir auf die Klassen und Methoden in den ausgelagerten Dateien auch wieder über die jupyter Notebooks zugreifen. Bzgl. der Implementierung von FEDCoin gehen wir hierzu folgendermaßen vor:\n",
    "\n",
    "1. Erstelle mit einem Texteditor deiner Wahl (Sublime wird empfohlen) eine Datei `FEDCoin.py` im selben Verzeichnis wie dieses Notebook und kopiere dort zuerst die Importe aus der obersten Zelle dieses Notebooks hinein und füge zusätzlich noch folgenden Import hinzu: `from utils import *`.  Kopiere dann die jeweils fotgeschrittensten Implementierungen der Klassen `Wallet`, `TransactionOutput` und `Transaction` in diese Datei hinein.\n",
    "\n",
    "2. Erstelle eine zweite Datei mit dem Namen `utils.py` die zunächst nur die Funktion `hash_shuff()` und die für die Funktion notwendigen Importe (`hashlib`, `json`) beinhaltet.\n",
    "\n",
    "3. Importiere den Inhalt beider Dateien in ein jupyter Notebook und erzeuge z.B. ein neues Wallet damit. Um sämtliche Inhalte aus einer \\*.py Datei zu importieren, verwendet man einen Befehl à la `from FEDCoin import *` (siehe Beispiel unten).\n"
   ]
  },
  {
   "cell_type": "code",
   "execution_count": null,
   "metadata": {},
   "outputs": [],
   "source": [
    "# Testing the import of code from *.py files in the same folder:\n",
    "# Note: To make sure that you don't use the cached classes\n",
    "# go to the menue bar of this notebook and select\n",
    "# --->Kernel--->Restart & Clear Output\n",
    "# Then run the code in this cell.\n",
    "\n",
    "from FEDCoin import *\n",
    "from utils import *\n",
    "\n",
    "wallet_peter = Wallet()\n",
    "print(wallet_peter.public_key)\n",
    "print(\"\\n\")\n",
    "\n",
    "test_od = OrderedDict({'bla':'blub'})\n",
    "print(hash_stuff(test_od))"
   ]
  }
 ],
 "metadata": {
  "kernelspec": {
   "display_name": "Python 3",
   "language": "python",
   "name": "python3"
  },
  "language_info": {
   "codemirror_mode": {
    "name": "ipython",
    "version": 3
   },
   "file_extension": ".py",
   "mimetype": "text/x-python",
   "name": "python",
   "nbconvert_exporter": "python",
   "pygments_lexer": "ipython3",
   "version": "3.6.7"
  }
 },
 "nbformat": 4,
 "nbformat_minor": 2
}
