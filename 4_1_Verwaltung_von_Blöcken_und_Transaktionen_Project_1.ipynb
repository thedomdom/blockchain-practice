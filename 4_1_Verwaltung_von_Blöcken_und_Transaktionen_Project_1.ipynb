{
 "cells": [
  {
   "cell_type": "markdown",
   "metadata": {},
   "source": [
    "## Projekt 1 -- Allgemeine Informationen:\n",
    "\n",
    "Durch die Teilnahme am Projekt 1 können bis zu vier Bonuspunkte für die Klausur erreicht werden. Vier Punkte entsprechen erwatungsgemäß ungefähr einem Notenschritt in der Klausur (also z.B. von 2.3 auf 2.0). Die Punkte können in der Klausur WS 18/19 und in der Klausur SS 19 angerechnet werden. Sie werden aber nur dann angerechnet, wenn die Klausur auch ohne Bonuspunkte bestanden wurde. Bonuspunkte für dieses Projekt 1 könnnen nur die Studenten bekommen, die auf der im Ilias veröffentlichten Liste dem Projekt 1 auch zugeordnet wurden. Die anderen Studenten bekommen ihre Chance auf die Bonuspunkte in den Projekten 2 und 3. \n",
    "Um eine Chance auf die Bonuspunkte zu haben, müssen folgende Kriterien erfüllt werden:\n",
    " 1. Die Lösung des Projekts muss bis spätestens 27.11.2018, 23:59 Uhr an *marcel.mueller@kit.edu* gesendet werden. Es reicht aus, wenn nur ein Gruppenmitlglied die Lösung versendet. In der Mail müssen Name und Matrikelnummer aller Gruppenmitglieder angegeben werden. Die Mail muss außerdem ein ZIP-Archiv enthalten, in dem sich sowohl das von Euch bearbeitete Notebook als auch eine Präsentation, in der Ihr Eure Lösung den anderen Studenten Schritt für Schritt vorstellt, befindet. Die Präsentation soll 8 Slides nicht überschreiten und sie kann mit einer Demonstration des von euch erstellten Codes verbunden werden (alles innerhalb der 10 Minuten). Ziel der Präsentation ist es den anderen Studenten Euer Vorgehen sauber zu erläutern. Jedes Gruppenmitglied soll ungefähr die gleiche Redezeit haben. Der Code, den ihr durch dieses Notebook abgebt, muss nachvollziehbar kommentiert sein.\n",
    " 2. Ihr müsst in der Projektübung am 29.11.2018, 15:45 bis 17:15 Uhr, Geb. 20.30, SR 1.067 (gewohnter Termin) anwesend sein und für eine eventuelle Präsentation Eurer Lösung vor den anderen Studenten zu Verfügung stehen. Zu dieser Übung müsst Ihr Euren Studentenausweis mitbringen, damit wir Euch Idenzifizieren können. Es kann sein, dass in der Projektübung nicht alle Gruppen ihre Lösung präsentieren müssen -- Ihr müsst aber theoretisch dafür bereit sein.\n",
    " \n",
    "Die Bewertung Eurer Leistung erfolgt dann basierend auf:\n",
    " 1. Eurer Abgabe (Notebook + Präsentation)\n",
    " 2. ~~Eurer mündlichen Mitarbeit in der Projektübung~~ (Hinweis: Wir haben gestern nach der Übung kurzfristig entschieden, dass die mündliche Mitarbeit in der Projektübung 1 doch nicht bewertet wird.)\n",
    " 3. Eurer (eventuellen) Präsentation\n",
    " \n",
    "Die Vervollständigung dieses Notebooks entspricht dem 1. Teil eurer Abgaben. In den folgenden Abschnitten wird die `FullNode` Klasse zunächst allgemein beschrieben, bevor dann auf *1. Verwaltung von Blöcken und Blockchains* eingegagen wird und im Anschluss daran *2. Verwaltung von Transaktionen* behandelt wird. Die Implementierungen von 1. und 2. weißen einige Lücken im Code auf die alle mit `# TD` gekennzeichnet sind. Eure Aufgabe ist es diese Lücken entsprechend der Erläuterungen und den zusätzlichen Kommentare im Code zu vervollständigen. Dabei gilt es zu beachten, dass der bereits vorhandene Code nicht abgeändert werden darf. D.h. vorhandener Code darf nicht gelöscht werden, sondern es soll nur neuer Code hinzugefügt werden. Das betrifft den Code in diesem Notebook sowie auch den ausgelagerten Code im `FEDCoin` und `utils` Modul (in den beiden Modulen gibt es keine `# TD` Stellen, ihr sollt den Code dort einfach so lassen wie er ist). Es gibt bzgl. der *Nicht-Verändern-Regel* eine Ausnahme zu Beginn der `process_incoming_block` Methode, die im Code gekennzeichnet ist. An dieser Stelle darf der existierende Code wie dort beschrieben leicht verändert werden, falls jemand einen alternativen Lösungsweg gehen möchte.    \n",
    "Die Vervollständigung der Lücken im  1. Teil ist deutlich aufwendiger als die Vervollständigung der Lücken im 2. Teil. Beachtet auch, dass im 1. Teil einige Lücken bei den anschließenden Tests zu vervollständigen sind. Am sinnvollsten ist es, wenn Ihr Euch zuerst den gesamten Inhalt des Notebooks durchlest, und dann mit den Implementierungen startet. Vergesst nicht Euren eigenen Code auch zu kommentieren."
   ]
  },
  {
   "cell_type": "markdown",
   "metadata": {},
   "source": [
    "## FullNode\n",
    "\n",
    "Die Aufgaben der *FullNode* Klasse lassen sich in vier Kategorien einteilen:\n",
    "1. Verwaltung von Blöcken und Blockchains\n",
    "2. Verwaltung von offenen Transaktionen\n",
    "3. Kommunikation mit dem Netzwerk\n",
    "4. Steuerung des Minings  \n",
    "\n",
    "Die Kategorien 1.,2. und 3. müssen von jedem *FullNode* implementiert werden, Kategorie 4. kann implementiert werden.  \n",
    "Die Funktionen der Kategorien 1.,2. und 3. sind stark miteinander verknüft. Z.B. ist *3. Kommunikation mit dem Netzwerk* die Grundlage sowohl für 1. als auch für 2. Es bietet sich aus der Implementierungsperspektive jedoch an die Kommunikation aus 3. zunächst als gegeben anzunehmen und die beiden Kategorien 1. und 2. isoliert zu betrachten. Die detailierte Beschreibung der Implementierung der Kategorien 3. und 4. erfolgt in der Übung die dem Projekt folgt.\n",
    "\n",
    "### 1. Verwaltung von Blöcken und Blockchains\n",
    "Ein Ziel des FullNodes ist eine möglichts aktuelle Version der Blockchain vorzuhalten, die mit der Mehrheit der aktuellen Blockchainversionen anderer Netzwerkteilnehmer übereinstimmt. Selbst wenn sich alle Netzwerkteilnehmer strikt an die eingeführten Konsensregeln halten, kann es dennoch kurzfristig zu Konflikten bzgl. dem Zustand de Blockchain kommen. Ein Konflikt entsteht genau dann, wenn zwei FullNodes eine unterschiedliche Perspektive bzgl. dem Zustand der Blockchain haben. Dies kann z.B. passieren, wenn zwei Miner ungefähr zeitgleich einen neuen Block minen und diesen von unterschiedlichen Richtungen in das Netzwerk einspeisen. Langfristig wird sich nur einer dieser beiden Blöcke in der Blockchain durchsetzten, kurzfristig könnten aber beide Blöcke z.B. jeweils von 50% des Netzwerks als *valide* eingestuft werden. Damit solche Szenarien aus der Perspektive des *FullNodes* effizient aufgelöst werden können, macht es für einen *FullNode* Sinn nicht nur eine, sondern einen Pool von Blockchains vorzuhalten. Eine dieser Blockchains ist stets die *Primary-Chain* (aus der Perspektive dieses FullNodes), die anderen Blockchains sind *Secondary-Chains*. Die einfache Regel für die Auswahl der *Primary-Chain* für den Node lautet schlichtweg: Die Blockchain mit dem meisten *Proof-of-Work* (PoW) ist die *Primary-Chain*. Haben zwei Chains den gleichen PoW, so wähle die ältere Chain als *Primary-Chain* aus.  \n",
    "Trifft ein neuer Block beim *FullNode* ein, so versucht der Node den Block zu einer Blockchain in seinem Pool hinzuzufügen. Hierfür wird einfach überpürft, ob der Block aus der Perspektive der jeweiligen Blockchain gültig ist. Zu Erinnerung: Gültig bedeutet 1. Prvious_Hash muss passen und 2. Alle Transaktionen im Block (inkl. Coinbase) müssen valide sein. Existiert keine Blockchain im Pool zu der der neue Block passt, so wird der neue Block dem sogenannten *Orphan Pool* hinzugefügt und zu einem späteren Zeitpunkt nochmals bearbeitet. Durch das Hinzufügen eines neuen Blocks zu einer Blockchain im Pool des FullNodes kann sich die *Primary-Chain* ändern, d.h., dass dadurch eine ehemals *Secondary-Chain* zur neuen *Primary-Chain* werden kann. Dies muss immer dann überprüft werden, wenn der neue Block nicht der *Primary-Chain* hinzugefügt wird. Bei Verlängerung der alten *Primary-Chain* ist die ehemalige *Primary-Chain* auch sicher die zukünftige *Primary-Chain*.  \n",
    "Jeder *FullNode* hält stets eine Liste mit allen Block-IDs, die ihm bereits bekannt sind, vor. So wird ein möglicher Mehraufwand vermieden. Außerdem hält jeder *FullNode* auch ein set an bekannten Transaction-Ids vor.\n",
    "\n",
    "\n",
    "\n",
    "#### Implementierung\n",
    "Jedes `FullNode` Objekt hat die folgenden Eigenschaften:\n",
    "1. **`address` :** string &rarr; Die Adresse unter der dieser Node von anderen Nodes erreicht werden kann. (Wird bei *3. Kommunikation mit dem Netzwerk* wichtig. Wird zunächst `= None` gesetzt.)\n",
    "<br>\n",
    "<br>\n",
    "2. **`neighbors` :** list(string) &rarr; Adressen der Nachbarnodes im Netzwerk. (Wird ebanfalls bei *3. Kommunikation mit dem Netzwerk* wichtig. Wird zunächst einfach als leere Liste geführt `=list()`.)\n",
    "<br>\n",
    "<br>\n",
    "3. **`current_chain_itterator` :** int &rarr; Iterator durch den jede neu hinzugefügte Blockchain eine eigene ID innerhalb des *FullNodes* bekommt.\n",
    "<br>\n",
    "<br>\n",
    "4. **`public_key_receiver_coinbase_transaction` :** string &rarr; Sofern der Node Mining betreibt, wird an diese Adresse der *Coinbase-Reward* gesendet.(Wird bei *4. Steuerung des Minings* wichtig. Ihr könnt hier später bei den Tests eine selbst kreierte Adresse --also einen Public-Key-- hinterlegen. Vergesst aber den Private-Key dazu nicht, hinterlegt ihn am bestenn irgendwo als Kommentar.)\n",
    "<br>\n",
    "<br>\n",
    "5. **`primary_chain_id` :** int &rarr; ID der aktuellen *Primary-Chain*.\n",
    "<br>\n",
    "<br>\n",
    "6. **`chains` :** OrderedDict(chain_id:`Blockchain`) &rarr; Pool der Blockchains die der Node aktuell verwaltet. Wird im Text manchmal auch als Chain Pool bezeichnet.\n",
    "<br>\n",
    "<br>\n",
    "7. **`orphan_block_pool` :** OrderedDict(`Block.id`:Block) &rarr; Alle Blöcke die keiner `Blockchain` zugeordnet werden können.\n",
    "<br>\n",
    "<br>\n",
    "8. **`seen_block_ids` :** list(`Block.id`) &rarr; Liste aller bekannten `Block.id`s.\n",
    "<br>\n",
    "<br>\n",
    "9. **`seen_transaction_ids` :** set(`Transaction.id`) &rarr; Liste aller bekannten `Transaction.id`s (wird bei *2. Verwaltung von offenen Transaktionen* wichtig).\n",
    "\n",
    "Die Funktionen der Kategorie *1. Verwaltung von Blöcken und Blockchains* werden durch folgenden Methoden implementiert:\n",
    "\n",
    "1.  **`process_incoming_block(self, new_block)`:**    \n",
    "Die gesamte Logik bzgl. dem Hinzufügen eines neuen Blocks und die damit verbundenen Veränderungen werden im Kommentar zu Beginn der Methodenimplementieurng (s.U.) nochmal explizit erläutert. Innerhalb der Methodenimplementierung sollen die folgenden Funktionen 2. - 5. aufgerufen werden (diese sind zum Teil auch noch zu vervollständigen):\n",
    "<br>\n",
    "<br>\n",
    "2. **`get_primary_chain(self)`:**  \n",
    "Gibt die aktuelle *Primary-Chain* zurück (`Blockchain` Objekt).\n",
    "<br>\n",
    "<br>\n",
    "3. **`set_primary_chain(self)`:**  \n",
    "Setzt die aktuelle *Primay-Chain* neu indem der PoW aller Chains im Pool miteinander verglichen wird. Falls eine neue *Primary-Chain* ausgewählt wurde, wird die `primary_chain_id` entsprechend angepasst und die Methode gibt `True` zurück, ansonsten wird `False` zurückgegeben.\n",
    "<br>\n",
    "<br>\n",
    "4. **`add_backuped_chain(self, backuped_chain)`:**  \n",
    "Wenn ein Block zu einer `Blockchain` hinzugefügt werden soll, wird unmittelbar vor dem Hinzufügen eine Kopie dieser `Blockchain` erstellt und die Kopie wird dann dem Pool an Blockchains hinzugefügt. Dieses Methode übernimmt das Hinzufügen der 'alten' bzw. 'Backup' Version dieser `Blockchain`. Durch das Hinzufügen der Backups von `Blockchain`s die gerade erweitert wurden, sind Forks möglich.\n",
    "<br>\n",
    "<br>\n",
    "5. **`clean_orphan_block_pool(self)`:**  \n",
    "Falls *Orphan-Blöcke* nach einer 30min immer noch nicht einer `Blockchain` in Pool zugeordnet werden konnten, werden Sie durch diese Methode gelöscht. Die entsprechenden IDs werden dann auch aus der Liste seen_block_ids entfernt.\n",
    "<br>\n",
    "<br>\n"
   ]
  },
  {
   "cell_type": "code",
   "execution_count": 6,
   "metadata": {},
   "outputs": [
    {
     "name": "stdout",
     "output_type": "stream",
     "text": [
      "The autoreload extension is already loaded. To reload it, use:\n",
      "  %reload_ext autoreload\n"
     ]
    }
   ],
   "source": [
    "# Automatically relaoad modules that have changed while\n",
    "# being loaded.\n",
    "%load_ext autoreload\n",
    "# Set equal to 2 to enable auto realod,\n",
    "# set equal to 0 to disable auto relaod.\n",
    "%autoreload 2"
   ]
  },
  {
   "cell_type": "code",
   "execution_count": 7,
   "metadata": {},
   "outputs": [],
   "source": [
    "# Import stuff\n",
    "from IPython.core.debugger import set_trace\n",
    "from time import time\n",
    "from collections import OrderedDict\n",
    "import json\n",
    "import copy\n",
    "import jdc\n",
    "\n",
    "# This is the outsourced code from the \n",
    "# previous section.\n",
    "from FEDCoin import *\n",
    "from utils import *"
   ]
  },
  {
   "cell_type": "code",
   "execution_count": 3,
   "metadata": {},
   "outputs": [],
   "source": [
    "class FullNode:\n",
    "    def __init__(self):\n",
    "        self.address = None  # possible string, is set later on\n",
    "        self.neighbors = list()  # list of strings\n",
    "        self.current_chain_itterator = 1  # int\n",
    "        self.public_key_receiver_coinbase_transaction = None  # possible string\n",
    "        self.primary_chain_id = self.current_chain_itterator  # int\n",
    "        self.chains = OrderedDict()  # OD--chain_id:chain\n",
    "        self.chains[str(self.current_chain_itterator)] = Blockchain()  # Creates first chain\n",
    "        self.orphan_block_pool = OrderedDict()  # OD--Block.id:Block\n",
    "\n",
    "        # List of known block_id_s_initially only genesis_block_id\n",
    "        self.seen_block_ids = [self.get_primary_chain().get_last_block().id]\n",
    "\n",
    "        # Set of transactions ids that the FullNode is aware of\n",
    "        self.seen_transaction_ids = set()\n",
    "\n",
    "    def process_incoming_block(self, new_block):\n",
    "        # TD: Complete the method according to the specifications described below.\n",
    "        # Note: This method is the most complex part of project 1.\n",
    "        #\n",
    "        # In general, this method first checks if the new_block is known by the FullNode.\n",
    "        # If it is unknown, the new_block is known exactly after the check, and therefore, its id is added to \n",
    "        # the list seen_block_ids at this point in time.\n",
    "        # \n",
    "        # If the FullNode was aware of the new_block (has processed it before), the whole method simply returns False.\n",
    "        # \n",
    "        # In case the new_block was unknown, the method tries to iteratively add the block \n",
    "        # to the chains of the FullNode. If the new_block fits to a chain of the FullNode, \n",
    "        # the new_block is added to that chain. Fitting means 1. previous_hash fits and 2. \n",
    "        # all transactions in the new_block are valid given the respective chain. Suppose 'chain' is an instance\n",
    "        # of the Blockchain class, then chain.add_block(new_block) does this exact job of trying to add a block \n",
    "        # to the 'chain'. \n",
    "        #\n",
    "        # Note that it makes sense to create a backup of the chain before calling the chain.add_block(new_block) \n",
    "        # method via: backup_chain = copy.deepcopy(chain). This rather strange way of creating a copy of an object\n",
    "        # via the copy.deepcopy() method is due to the fact that the standard \"a=b\" in Python is simply a reference \n",
    "        # of a to b and not a real copy. To create actual copies of an object instead of simply creating a reference\n",
    "        # you have to use the copy.deepcopy() function. If you don't understand what a reference is, \n",
    "        # simply use the line above to create a backup copy and code on ;-). It's not crucial for your further understanding.\n",
    "        #\n",
    "        # In case chain.add_block(new_block) returns True, i.e. the new_block was successfully added to the chain, \n",
    "        # then the backup_chain has to be added to the pool of chains of the FullNode via a call of the \n",
    "        # add_backuped_chain(backup_chain) --> see below. Using this strategy of always adding\n",
    "        # a backuped version of the chain after it has been prolonged, ensures that in case a competing_block arrives\n",
    "        # at the FullNode a little later than the new_block has arrived, the competing_block has also a chance to survive. \n",
    "        # Note that this strategy also implies that a given new_block can only fit to a maximum of one \n",
    "        # chain of the FullNode.\n",
    "        # \n",
    "        # If necessary, after an addition of a block, a new primary_chain_id is set based on the PoW rule described above.\n",
    "        # Implement the set_primary_chain() method below to this end and call the method from within this method\n",
    "        # when appropriate.\n",
    "        # \n",
    "        # If the new_block doesn't fit to any of the chains of the FullNode, it is added to the orphan_block_pool.\n",
    "        # \n",
    "        # Think of a clever way to reprocess blocks from the orphan_block_pool. If orphan blocks have been > 30 min in the\n",
    "        # orphan_block_pool, they should be deleted. This is done via the clean_orphan_block_pool() method below which\n",
    "        # is suposed to be called from within this method at some place. Blocks from the orphan_block_pool should be\n",
    "        # reprocessed in a regular manner, more precisely, this should happen each time after another block has been added to a chain. \n",
    "        # You could implement this via a recursive call of the process_incoming_block method, but there are also other \n",
    "        # ways to handle it. The idea is simply that orphan blocks must have a chance to be added to a chain coming out\n",
    "        # of the orphan_block_pool.\n",
    "\n",
    "        # Implementation starts here:\n",
    "        # If the block has been processed before and is not part of the orphan pool --> \n",
    "        # ignore the block. Orphan blocks can be processed multiple times (they have to \n",
    "        # to be processed multiple times), you can implement this using a recursion. If you\n",
    "        # want to implement it in another way, you can get rid of the or ... condition here.\n",
    "        if (new_block.id not in self.seen_block_ids) or (new_block.id in self.orphan_block_pool.keys()):\n",
    "            # Your code -- start:\n",
    "            added = False\n",
    "            for blockchain in list(self.chains.values()):\n",
    "                backup_chain = copy.deepcopy(blockchain)\n",
    "                if blockchain.add_block(new_block):\n",
    "                    self.set_primary_chain()\n",
    "                    # if blockchain.pow > chains[primary_chain_id].pow:\n",
    "                    #    primary_chain_id = key\n",
    "                    #    #Therefore if anything is added to any chain it is checked if \n",
    "                    #    # the chain becomes the new longest chain.\n",
    "                    #    #If an older chain with the same length exists it is the primary chain and \n",
    "                    #    # stays the primary chain (because of \">\").\n",
    "                    #    #Only holds if this is the only possibility to add/delete something to a chain!\n",
    "                    added = True\n",
    "                    self.add_backuped_chain(backup_chain)\n",
    "                    \n",
    "            self.clean_orphan_block_pool()\n",
    "\n",
    "            if added:\n",
    "                self.seen_block_ids.append(new_block.id)\n",
    "                added_orphan = True  # set to true to initially start orphan adding\n",
    "                while added_orphan:\n",
    "                    added_orphan = False\n",
    "                    for orphan in list(self.orphan_block_pool.values()):  # Look at all (remaining) orphans\n",
    "                        for blockchain in list(self.chains.values()):\n",
    "                            backup_chain = copy.deepcopy(blockchain)  # Same as above\n",
    "                            if blockchain.add_block(orphan):\n",
    "                                self.orphan_block_pool.pop(orphan.id)  # Switching the block from orphans to added\n",
    "                                self.seen_block_ids.append(orphan.id)\n",
    "                                added_orphan = True  # Triggers while-loop to look at all the other orphans\n",
    "\n",
    "                                self.set_primary_chain()\n",
    "\n",
    "                                self.add_backuped_chain(backup_chain)\n",
    "            else:\n",
    "                self.orphan_block_pool[new_block.id] = new_block\n",
    "\n",
    "            # Your code -- end:\n",
    "            print('Block processing finished for Block ' + new_block.id[:7] + '...')\n",
    "            print('Primary chain id ' + str(self.primary_chain_id))\n",
    "            print('Primary chain length ' + str(len(self.chains[str(self.primary_chain_id)].chain)))\n",
    "            print('Orphan pool size ' + str(len(self.orphan_block_pool)))\n",
    "            print('Number of chains ' + str(len(self.chains)))\n",
    "\n",
    "            # Return True as the block has been successfully processed\n",
    "            return True\n",
    "        else:\n",
    "            print('Block has been processed in the past')\n",
    "            # Return False as the block has not been processed (i.e. already known)\n",
    "            return False\n",
    "\n",
    "    def get_primary_chain(self):\n",
    "        # Returns the current primary chain of the pool\n",
    "\n",
    "        return (self.chains[str(self.primary_chain_id)])\n",
    "\n",
    "    def set_primary_chain(self):\n",
    "        # TD: Complete the method according to the specifications.\n",
    "        # Selects the primary chain according to the POW rule and \n",
    "        # sets the self.primary_chain_id.\n",
    "        # Returns True if new primary chain was set (different ID than before), \n",
    "        # False otherwise. \n",
    "\n",
    "        # Indicator whether new prim. chain is set\n",
    "        new_primary_chain = False\n",
    "        # Your code -- start:\n",
    "\n",
    "        for key, blockchain in self.chains.items():\n",
    "            if blockchain.pow > self.chains[str(self.primary_chain_id)].pow:\n",
    "                self.primary_chain_id = key\n",
    "                new_primary_chain = True\n",
    "                # This is called everytime a chain is altered.\n",
    "                # If an older chain with the same length exists it is the primary chain and \n",
    "                # stays the primary chain (because of \">\").     \n",
    "\n",
    "        # Your code -- end:\n",
    "        if new_primary_chain:\n",
    "            print('New primary chain selected')\n",
    "            return True\n",
    "        else:\n",
    "            return False\n",
    "\n",
    "    def add_backuped_chain(self, backuped_chain):\n",
    "        # TD: Complete the method according to the specifications.\n",
    "        # Assigns a new id to the backuped_chain\n",
    "        # and adds it to the pool.  Returns nothing.\n",
    "        self.current_chain_itterator += 1\n",
    "        # Your Code -- start:\n",
    "        self.chains[str(self.current_chain_itterator)] = backuped_chain  # easy\n",
    "        # Your Code -- end:\n",
    "\n",
    "    def clean_orphan_block_pool(self):\n",
    "        # TD: Complete the method according to the specifications.\n",
    "        # Deletes orphan blocks that are older\n",
    "        # than 30 minutes.\n",
    "        # Your code -- start:\n",
    "        current_time = time()\n",
    "        for orphan in list(self.orphan_block_pool.values()):\n",
    "            if (current_time - orphan.timestamp) > 30 * 60:  # 30 minutes\n",
    "                self.orphan_block_pool.pop(orphan.id)\n",
    "        # Your code -- end:\n"
   ]
  },
  {
   "cell_type": "code",
   "execution_count": 9,
   "metadata": {},
   "outputs": [
    {
     "name": "stdout",
     "output_type": "stream",
     "text": [
      "Block processing finished for Block 0000b3c...\n",
      "Primary chain id 1\n",
      "Primary chain length 2\n",
      "Orphan pool size 0\n",
      "Number of chains 2\n"
     ]
    },
    {
     "data": {
      "text/plain": [
       "True"
      ]
     },
     "execution_count": 9,
     "metadata": {},
     "output_type": "execute_result"
    }
   ],
   "source": [
    "# General note for the test cases: Within the test cases there are no \n",
    "# '# Your code -- start:' and '# Your code - end:' marks.\n",
    "# Your code always goes exactly after the marked '# TD'\n",
    "\n",
    "# Testing it -- Standard case:\n",
    "# Note: Somes steps are already completed, others are not. The oney you have to complete are\n",
    "# labeled with a # TD.\n",
    "\n",
    "## Preparation\n",
    "\n",
    "# 1. Step: Create two wallets to simplify Transaction creation\n",
    "# Note: This is the private key which corresponds to the public key from the genesis TransactionOutput.\n",
    "wallet_genesis = Wallet('308187020100301306072a8648ce3d020106082a8648ce3d030107046d306b020101042012bbcc17335fa7345f7be65b01a5d6dca706d8f2ba99691f314697f288d678c0a144034200043f3bd6d16ce4bde95a8237170aaa106388485498234a3dca5d0c273d907c03c3e72017bec13cf6e893e96da0f9d6c7037c79b40cb006aff12ae88adae1b0bb7e')\n",
    "wallet_alice = Wallet()\n",
    "wallet_marcel = Wallet()\n",
    "\n",
    "# 2. Step: Create a Transaction to be included in a new_block\n",
    "\n",
    "# a. Create TOs: One to alice, one with the change back to genesis\n",
    "# TD\n",
    "output1 = TransactionOutput(wallet_alice.public_key, 45)\n",
    "output2 = TransactionOutput(wallet_genesis.public_key, 5)\n",
    "# b. Create and OD of the TOs\n",
    "# TD\n",
    "outputs = OrderedDict()\n",
    "outputs[1] = output1\n",
    "outputs[2] = output2\n",
    "\n",
    "# c. Create the Transaction from genesis to alice with the OD \n",
    "# produced above and the genesis UTXO_id as input.\n",
    "# TD\n",
    "\n",
    "inputs = []\n",
    "inputs.append('13f7b983fb68e4fde6b1b77df955098a2526fe62c965ad435fe61538832bcdb8')\n",
    "transaction_genesis_to_alice = Transaction(wallet_genesis.public_key, inputs, outputs)\n",
    "\n",
    "# d. Sign the Transaction with the genesis private key\n",
    "# TD\n",
    "transaction_genesis_to_alice.sign_transaction(wallet_genesis.private_key)\n",
    "\n",
    "\n",
    "# 3. Create a Blockchain() to enable mining on it and add the\n",
    "# transaction_genesis_to_alice to the Mempool of the chain.\n",
    "bc = Blockchain()\n",
    "bc.process_transaction(transaction_genesis_to_alice)\n",
    "\n",
    "# 4. Mine the new_block using the bc from step 3\n",
    "# TD\n",
    "new_block = bc.mine_block(wallet_marcel.public_key)\n",
    "## FullNode Test\n",
    "\n",
    "\n",
    "\n",
    "\n",
    "\n",
    "# 1. Initialize a FullNode and a dummy event (the real purpose of this event becomes\n",
    "# clearer, later on)\n",
    "fn = FullNode()\n",
    "\n",
    "\n",
    "# 2. Test the processing of the new block.\n",
    "# TD\n",
    "fn.process_incoming_block(new_block)\n",
    "\n",
    "# --> If everything went fine, the print statements should output something like:\n",
    "# Primary chain id 1\n",
    "# Primary chain legnth 2\n",
    "# Orphan pool size 0\n",
    "# Number of chains 2"
   ]
  },
  {
   "cell_type": "code",
   "execution_count": 10,
   "metadata": {},
   "outputs": [
    {
     "name": "stdout",
     "output_type": "stream",
     "text": [
      "Block has been processed in the past\n"
     ]
    },
    {
     "data": {
      "text/plain": [
       "False"
      ]
     },
     "execution_count": 10,
     "metadata": {},
     "output_type": "execute_result"
    }
   ],
   "source": [
    "# Testing it -- Block-aready-known case:\n",
    "# Try it again with exactly the same new_block:\n",
    "# TD\n",
    "fn.process_incoming_block(new_block)"
   ]
  },
  {
   "cell_type": "code",
   "execution_count": 11,
   "metadata": {},
   "outputs": [
    {
     "name": "stdout",
     "output_type": "stream",
     "text": [
      "Block processing finished for Block 0000802...\n",
      "Primary chain id 1\n",
      "Primary chain length 2\n",
      "Orphan pool size 0\n",
      "Number of chains 3\n"
     ]
    },
    {
     "data": {
      "text/plain": [
       "True"
      ]
     },
     "execution_count": 11,
     "metadata": {},
     "output_type": "execute_result"
    }
   ],
   "source": [
    "# Testing it -- Competing-transaction case:\n",
    "# Mine a NEW block with a competing transaction and try to add it. Competing transaction means simply that you\n",
    "# should use the transaction from above again (i.e. this is only 3 lines of code here).\n",
    "# TD\n",
    "bc.process_transaction(transaction_genesis_to_alice)\n",
    "new_block = bc.mine_block(wallet_marcel.public_key)\n",
    "fn.process_incoming_block(new_block)\n",
    "#--> If everything went fine your output should look something like this:\n",
    "# Primary chain id 1\n",
    "# Primary chain legnth 2\n",
    "# Orphan pool size 0\n",
    "# Number of chains 3"
   ]
  },
  {
   "cell_type": "code",
   "execution_count": 12,
   "metadata": {},
   "outputs": [
    {
     "name": "stdout",
     "output_type": "stream",
     "text": [
      "Chain 1 has 8 PoW.\n",
      "Chain 2 has 8 PoW.\n",
      "Chain 3 has 4 PoW.\n"
     ]
    }
   ],
   "source": [
    "# Print the PoW of the chains\n",
    "# Chain #2 Should have the same PoW as chain #1\n",
    "for chain_id, chain in fn.chains.items():\n",
    "    print('Chain ' +  chain_id + ' has ' + str(chain.pow) + ' PoW.')#fail"
   ]
  },
  {
   "cell_type": "code",
   "execution_count": 15,
   "metadata": {},
   "outputs": [],
   "source": [
    "# Testing it -- New-primary-chain case:\n",
    "# Create a new Block based on chain #2 and let the FullNode process it.\n",
    "# Hint: This can be easily done by creating a Transaction containing the\n",
    "# coinbase output from the creation of the 2nd Block in chain #2. \n",
    "\n",
    "# 1. To get the ID of the coinbase TO from the referenced mining\n",
    "# run Anchor 1 box below and look for the id of the coinbase Transaction of the 2nd Block:\n",
    "UTXO_id = '7391abd609b30e029ae227854efc5c5a32434ff4c6c879897f605a1fb348283e'\n",
    "UTXO_id = list(list(fn.chains['2'].get_last_block().get_full_odict()['transactions'].values())[0]['outputs'].values())[0]['id']\n",
    "# 2. Create TOs: One to alice, one with the change back to marcel\n",
    "# TD\n",
    "transaction_output_to_alice = TransactionOutput(wallet_alice.public_key, 10)\n",
    "transaction_output_to_marcel = TransactionOutput(wallet_marcel.public_key, 40)\n",
    "# 3. Create and OD of the TOs\n",
    "# TD\n",
    "outputs = OrderedDict({\n",
    "    transaction_output_to_alice.id: transaction_output_to_alice,\n",
    "    transaction_output_to_marcel.id: transaction_output_to_marcel\n",
    "})\n",
    "\n",
    "# 4. Create the Transaction from marcel to alice with the OD \n",
    "# produced above and the genesis UTXO_id from Anchor 1 as input.\n",
    "# NOTE: You need to replace the ######TO.id#####-->Look it up after \n",
    "# running the code from the Anchor 1.\n",
    "# TD\n",
    "transaction_marcel_to_alice = Transaction(wallet_marcel.public_key, [UTXO_id], outputs)\n",
    "# 5. Sign the Transaction with marcel's private key\n",
    "transaction_marcel_to_alice.sign_transaction(wallet_marcel.private_key)\n"
   ]
  },
  {
   "cell_type": "code",
   "execution_count": 16,
   "metadata": {},
   "outputs": [
    {
     "data": {
      "text/plain": [
       "OrderedDict([('93a9196387928d63dfc79f1cf9faaddf32d02ac1b256229daee73cc7d7f50a23',\n",
       "              OrderedDict([('timestamp', 0),\n",
       "                           ('sender', 'coinbase'),\n",
       "                           ('inputs', ['coinbase_UTXO']),\n",
       "                           ('outputs',\n",
       "                            OrderedDict([('b847d82322f97898488eb1c9f03cb25e71121ae4e99dfb8b80b50550f7ed04ec',\n",
       "                                          OrderedDict([('time', 0),\n",
       "                                                       ('random', 0),\n",
       "                                                       ('recipient',\n",
       "                                                        '3059301306072a8648ce3d020106082a8648ce3d03010703420004b934a974a4ff865ad4cb94395b2b4590ee45e8bbd3a919023abe8acabac8bc5e54ad8aeae1bf9e0fdeff7e354456642972cc71d2dc22f9ead2c0df4abe5eadbb'),\n",
       "                                                       ('value', 50.0),\n",
       "                                                       ('id',\n",
       "                                                        'b847d82322f97898488eb1c9f03cb25e71121ae4e99dfb8b80b50550f7ed04ec')]))])),\n",
       "                           ('signature', ''),\n",
       "                           ('id',\n",
       "                            '93a9196387928d63dfc79f1cf9faaddf32d02ac1b256229daee73cc7d7f50a23')])),\n",
       "             ('eaffa9ef2e5fb3ee9be0628b34ea97b15bf7d810b0eb98ca4406b5baf6a22bf5',\n",
       "              OrderedDict([('timestamp', 1543229451.5604084),\n",
       "                           ('sender',\n",
       "                            '3059301306072a8648ce3d020106082a8648ce3d030107034200043f3bd6d16ce4bde95a8237170aaa106388485498234a3dca5d0c273d907c03c3e72017bec13cf6e893e96da0f9d6c7037c79b40cb006aff12ae88adae1b0bb7e'),\n",
       "                           ('inputs',\n",
       "                            ['13f7b983fb68e4fde6b1b77df955098a2526fe62c965ad435fe61538832bcdb8']),\n",
       "                           ('outputs',\n",
       "                            OrderedDict([('dc47e3006f686e07a908914ff9754a34d18770a901bd6f36df8351701f1decef',\n",
       "                                          OrderedDict([('time',\n",
       "                                                        1543229451.5601628),\n",
       "                                                       ('random',\n",
       "                                                        9897266024453),\n",
       "                                                       ('recipient',\n",
       "                                                        '3059301306072a8648ce3d020106082a8648ce3d030107034200046f0d753d55edea29fded874b80188c9bc4c2e580da6932a676388516c824ad767fcf91e710983ecf3a4e4111dc369fc5bd1350c17c4dbf94f5ae7d9bc0d13544'),\n",
       "                                                       ('value', 45),\n",
       "                                                       ('id',\n",
       "                                                        'dc47e3006f686e07a908914ff9754a34d18770a901bd6f36df8351701f1decef')])),\n",
       "                                         ('35a6d74836c285cb2cf1ff8bcd4368cb519bc791301044411002747553f8067f',\n",
       "                                          OrderedDict([('time',\n",
       "                                                        1543229451.560254),\n",
       "                                                       ('random',\n",
       "                                                        5857971846893),\n",
       "                                                       ('recipient',\n",
       "                                                        '3059301306072a8648ce3d020106082a8648ce3d030107034200043f3bd6d16ce4bde95a8237170aaa106388485498234a3dca5d0c273d907c03c3e72017bec13cf6e893e96da0f9d6c7037c79b40cb006aff12ae88adae1b0bb7e'),\n",
       "                                                       ('value', 5),\n",
       "                                                       ('id',\n",
       "                                                        '35a6d74836c285cb2cf1ff8bcd4368cb519bc791301044411002747553f8067f')]))])),\n",
       "                           ('signature',\n",
       "                            '25811a13d7385f743d302c1926f7bdc7d22edc6cefa558b0a54e03a1a22bc345e24f2cdfbc4cbe8093c560f7a638b77d4db1c118fdf99229e6baf20b536a9c80'),\n",
       "                           ('id',\n",
       "                            'eaffa9ef2e5fb3ee9be0628b34ea97b15bf7d810b0eb98ca4406b5baf6a22bf5')]))])"
      ]
     },
     "execution_count": 16,
     "metadata": {},
     "output_type": "execute_result"
    }
   ],
   "source": [
    "# Anchor 1\n",
    "# It is the TO within the first Transaction of the block (first one)\n",
    "# is always the 'coinbase' Transaction:\n",
    "fn.chains['2'].get_last_block().get_full_odict()['transactions']\n"
   ]
  },
  {
   "cell_type": "code",
   "execution_count": 17,
   "metadata": {},
   "outputs": [
    {
     "name": "stdout",
     "output_type": "stream",
     "text": [
      "New primary chain selected\n",
      "Block processing finished for Block 0000c45...\n",
      "Primary chain id 2\n",
      "Primary chain length 3\n",
      "Orphan pool size 0\n",
      "Number of chains 4\n"
     ]
    },
    {
     "data": {
      "text/plain": [
       "True"
      ]
     },
     "execution_count": 17,
     "metadata": {},
     "output_type": "execute_result"
    }
   ],
   "source": [
    "# Testing it -- New-primary-chain case, continued:\n",
    "# Mine a new block with this transaction on the chain #2 of\n",
    "# the full node and process it by the full node.\n",
    "# TD\n",
    "fn.chains['2'].process_transaction(transaction_marcel_to_alice)\n",
    "new_block = fn.chains['2'].mine_block(wallet_genesis.public_key)\n",
    "fn.process_incoming_block(new_block)\n",
    "\n",
    "#--> Output should look something like this:\n",
    "# Primary chain id 2\n",
    "# Primary chain legnth 3\n",
    "# Orphan pool size 0\n",
    "# Number of chains 4"
   ]
  },
  {
   "cell_type": "code",
   "execution_count": 18,
   "metadata": {},
   "outputs": [
    {
     "name": "stdout",
     "output_type": "stream",
     "text": [
      "Chain 1 has 8 PoW.\n",
      "Chain 2 has 12 PoW.\n",
      "Chain 3 has 4 PoW.\n",
      "Chain 4 has 8 PoW.\n"
     ]
    }
   ],
   "source": [
    "# Print the PoW of the chains\n",
    "for chain_id, chain in fn.chains.items():\n",
    "    print('Chain ' +  chain_id + ' has ' + str(chain.pow) + ' PoW.')"
   ]
  },
  {
   "cell_type": "code",
   "execution_count": 19,
   "metadata": {},
   "outputs": [
    {
     "name": "stdout",
     "output_type": "stream",
     "text": [
      "Block processing finished for Block 00008e7...\n",
      "Primary chain id 2\n",
      "Primary chain length 3\n",
      "Orphan pool size 1\n",
      "Number of chains 3\n"
     ]
    },
    {
     "data": {
      "text/plain": [
       "True"
      ]
     },
     "execution_count": 19,
     "metadata": {},
     "output_type": "execute_result"
    }
   ],
   "source": [
    "# Testing it -- Addition of a block to the orphan pool:\n",
    "# Take the same Transaction, which would fit to the chain #4 now,\n",
    "# mine a new block with it using chain #4, then delete chain #4\n",
    "# and process the block. Make a: \n",
    "# chain_4_copy = copy.deepcopy(fn.chains['4'])\n",
    "# before you delete it. You will need it later on.\n",
    "\n",
    "# Mine a new block with this transaction on the chain #4 of\n",
    "# the full node\n",
    "# TD\n",
    "fn.chains['4'].process_transaction(transaction_marcel_to_alice)\n",
    "new_block = fn.chains['4'].mine_block(wallet_genesis.public_key)\n",
    "\n",
    "# Copy chain #4 as we want to add it back to the full node later on.\n",
    "chain_4_copy = copy.deepcopy(fn.chains['4'])\n",
    "# Delete chain #4 from the full node\n",
    "del fn.chains['4']\n",
    "\n",
    "# Process the block\n",
    "fn.process_incoming_block(new_block)\n",
    "# TD\n",
    "\n",
    "# --> Output should include something like:\n",
    "# Primary chain id 2\n",
    "# Primary chain legnth 3\n",
    "# Orphan pool size 1\n",
    "# Number of chains 3"
   ]
  },
  {
   "cell_type": "code",
   "execution_count": 20,
   "metadata": {},
   "outputs": [
    {
     "name": "stdout",
     "output_type": "stream",
     "text": [
      "Chain 1 has 8 PoW.\n",
      "Chain 2 has 12 PoW.\n",
      "Chain 3 has 4 PoW.\n"
     ]
    }
   ],
   "source": [
    "# Print the PoW of the chains\n",
    "for chain_id, chain in fn.chains.items():\n",
    "    print('Chain ' +  chain_id + ' has ' + str(chain.pow) + ' PoW.')"
   ]
  },
  {
   "cell_type": "code",
   "execution_count": 21,
   "metadata": {},
   "outputs": [
    {
     "name": "stdout",
     "output_type": "stream",
     "text": [
      "Block processing finished for Block 0000802...\n",
      "Primary chain id 2\n",
      "Primary chain length 3\n",
      "Orphan pool size 0\n",
      "Number of chains 5\n"
     ]
    },
    {
     "data": {
      "text/plain": [
       "True"
      ]
     },
     "execution_count": 21,
     "metadata": {},
     "output_type": "execute_result"
    }
   ],
   "source": [
    "# Get the last block of of chain_4_copy and let the \n",
    "# FullNode process it.\n",
    "# Remeber that the chain #4 copy was the cut-off version of chain #2 and chain #3\n",
    "# is the cut-off version of chain #4.\n",
    "# The orphan pool should be empty after this.\n",
    "last_block_chain_4 = chain_4_copy.get_last_block()\n",
    "\n",
    "# In order to make the FullNode process it (again), \n",
    "# we have to remove the block's id from the list of seen block ids, first\n",
    "fn.seen_block_ids.remove(last_block_chain_4.id)\n",
    "\n",
    "# Process the block\n",
    "# TD\n",
    "fn.process_incoming_block(last_block_chain_4)\n"
   ]
  },
  {
   "cell_type": "code",
   "execution_count": 22,
   "metadata": {},
   "outputs": [
    {
     "name": "stdout",
     "output_type": "stream",
     "text": [
      "Chain 1 has 8 PoW.\n",
      "Chain 2 has 12 PoW.\n",
      "Chain 3 has 12 PoW.\n",
      "Chain 5 has 4 PoW.\n",
      "Chain 6 has 8 PoW.\n",
      "Block ids of chain #2\n",
      "0000002dc75b3bc7ad4b5bce7d572f4d13982e8eb7a67dca6f50d9abeb7f6e81\n",
      "0000802b06d267c2f59e216c5d5d58ba4cc6d962c6d69d57f3f431c10898ea05\n",
      "0000c45b09c3bb69b9ef27fc8e4910a5b4a73bf04fda753b3e669e88d13290e8\n",
      "Block ids of chain #3\n",
      "0000002dc75b3bc7ad4b5bce7d572f4d13982e8eb7a67dca6f50d9abeb7f6e81\n",
      "0000802b06d267c2f59e216c5d5d58ba4cc6d962c6d69d57f3f431c10898ea05\n",
      "00008e7d853b285db5f44674da346f73da593b172352b5e6ca0a348e05238223\n"
     ]
    }
   ],
   "source": [
    "# Due to this artificial test where we deleted chain #4, \n",
    "# manipulated the list of seen blocks and reprocessed one block twice,\n",
    "# chain #3 and chain #2 should now be identical except for the last block.\n",
    "# Print the PoW of the chains\n",
    "for chain_id, chain in fn.chains.items():\n",
    "    print('Chain ' + chain_id + ' has ' + str(chain.pow) + ' PoW.')\n",
    "\n",
    "print('Block ids of chain #2')\n",
    "for block_id in fn.chains['2'].chain.keys():\n",
    "    print(block_id)\n",
    "\n",
    "print('Block ids of chain #3')\n",
    "for block_id in fn.chains['3'].chain.keys():\n",
    "    print(block_id)\n",
    "    \n"
   ]
  },
  {
   "cell_type": "markdown",
   "metadata": {},
   "source": [
    "### 2. Verwaltung von Transaktionen\n",
    "Die Verwaltung von Transaktionen, die ein FullNode erhält, ist im Vergleich zur Blockverwaltung einfach. Wenn ein FullNode eine Transaktion erhält die er noch nicht gesehen hat, leitet er diese Transaktion an alle Blockchains in seinem Pool weiter. Stuft eine dieser `Blockchain`s die Transaktion als *valide* ein, so fügt diese `Blockchain` diese Transaktion ihrem eigenen Mempool hinzu (damit verbunden werden Mempool UTXOs upgedated usw. -- der Teil wird schon durch die `process_transaction` Methode der `Blockchain()` Klasse implementiert). Eine Transaktion kann dabei auch den *Mempools* mehrerer `Blockchains` hinzugefügt werden. Alles weitere wird von den Minern bzw. den `Blockchain` Methoden gerelgelt.\n",
    "\n",
    "#### Implementierung\n",
    "\n",
    "Die Transaktionsverwaltung wird durch die Methode `add_transaction_to_mempools(self, transaction)` implementiert. Innerhalb der Methode wird auch überprüft, ob die Transaktion von der *Primary-Chain* als valide eingestuft wurde, d.h. dob sie dem Mempool der *Primary-Chain* hinzugefügt wurde. Wenn dies der Fall ist, leitet der Node die Transaktion an seine Nachbarn weiter. Für die Weiterleitung ist die Methode `propagate_transaction(self, transaction)` verantwortlich. Die wird an dieser Stelle zunächst dummymäßig implementiert."
   ]
  },
  {
   "cell_type": "code",
   "execution_count": 23,
   "metadata": {},
   "outputs": [],
   "source": [
    "%%add_to FullNode\n",
    "\n",
    "\n",
    "def add_transaction_to_mempools(self, transaction):\n",
    "    # TD: Complete the method according to the specifications described below.\n",
    "    #\n",
    "    # Tries to add the transaction to the mempools of all chains of the node by calling\n",
    "    # process_transaction method of the respective chain.\n",
    "    # Returns 'True' if the transaction was processed (i.e. not known before) 'False' if transaction\n",
    "    # has been known by the node. If the transaction is new, its id is added to the \n",
    "    # self.seen_transaction_ids list.\n",
    "    # If the transaction is added to the current primary chain of the node, \n",
    "    # the propagate_transaction(transaction) --> see below\n",
    "    # is called.\n",
    "\n",
    "    # Check if transaction is unknown to the node, if so process it.\n",
    "    if transaction.id not in self.seen_transaction_ids:\n",
    "        # Your code -- start:\n",
    "        for chain_id, chain in self.chains.items():\n",
    "            if chain.process_transaction(transaction):\n",
    "                self.seen_transaction_ids.add(transaction.id)\n",
    "                if chain_id == self.primary_chain_id:\n",
    "                    self.propagate_transaction()\n",
    "        # Your code -- end:\n",
    "        return True\n",
    "    else:\n",
    "        return False\n",
    "\n",
    "\n",
    "def propagate_transaction(self, transaction):\n",
    "    # Dummy for now. Leave it like that. We will need it in the upcomming session.       \n",
    "    pass\n"
   ]
  },
  {
   "cell_type": "code",
   "execution_count": 24,
   "metadata": {},
   "outputs": [
    {
     "name": "stdout",
     "output_type": "stream",
     "text": [
      "eaffa9ef2e5fb3ee9be0628b34ea97b15bf7d810b0eb98ca4406b5baf6a22bf5\n",
      "OrderedDict([('eaffa9ef2e5fb3ee9be0628b34ea97b15bf7d810b0eb98ca4406b5baf6a22bf5', <FEDCoin.Transaction object at 0x7f788043edd8>)])\n"
     ]
    }
   ],
   "source": [
    "# Testing it -- Add Transaction to mempools:\n",
    "# Use the transaction_genesis_to_alice to test it. You need to create a new FullNode for this, however.\n",
    "\n",
    "fn2 = FullNode()\n",
    "fn2.add_transaction_to_mempools(transaction_genesis_to_alice)\n",
    "print(transaction_genesis_to_alice.id)\n",
    "print(fn2.chains['1'].mempool)"
   ]
  },
  {
   "cell_type": "code",
   "execution_count": null,
   "metadata": {},
   "outputs": [],
   "source": []
  }
 ],
 "metadata": {
  "kernelspec": {
   "display_name": "Python 3",
   "language": "python",
   "name": "python3"
  },
  "language_info": {
   "codemirror_mode": {
    "name": "ipython",
    "version": 3
   },
   "file_extension": ".py",
   "mimetype": "text/x-python",
   "name": "python",
   "nbconvert_exporter": "python",
   "pygments_lexer": "ipython3",
   "version": "3.6.7"
  }
 },
 "nbformat": 4,
 "nbformat_minor": 2
}
