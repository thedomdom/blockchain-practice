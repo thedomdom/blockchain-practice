{
 "cells": [
  {
   "cell_type": "markdown",
   "metadata": {},
   "source": [
    "### Python Basics -- Crashkurs \n",
    "\n",
    "#### 1. Datentypen"
   ]
  },
  {
   "cell_type": "code",
   "execution_count": null,
   "metadata": {},
   "outputs": [
    {
     "name": "stdout",
     "output_type": "stream",
     "text": [
      "['test', 1, 'a', 'b', 'c', 'd']\n"
     ]
    }
   ],
   "source": [
    "# Datentypen\n",
    "# Integer und String etc. sollten im Selbsttudium erlernt werden\n",
    "\n",
    "# List\n",
    "# Liste erzeugen\n",
    "list_a = ['test']\n",
    "\n",
    "# Auch eine leere List kann erzeugt werden, z.B.:\n",
    "list_b = [] \n",
    "\n",
    "list_a.append(1)\n",
    "list_a.append('a')\n",
    "list_a.append('b')\n",
    "list_a.append('c')\n",
    "list_a.append('d')\n",
    "\n",
    "print(list_a)\n"
   ]
  },
  {
   "cell_type": "code",
   "execution_count": 2,
   "metadata": {},
   "outputs": [
    {
     "name": "stdout",
     "output_type": "stream",
     "text": [
      "d\n",
      "['test', 1, 'a', 'b', 'c']\n"
     ]
    }
   ],
   "source": [
    "# Pop das letzte Listenelement (d.h. Rückgabe des Elements und \n",
    "# löschen aus der Liste)\n",
    "\n",
    "last_element = list_a.pop()\n",
    "\n",
    "print(last_element)\n",
    "print(list_a)"
   ]
  },
  {
   "cell_type": "code",
   "execution_count": 3,
   "metadata": {},
   "outputs": [
    {
     "name": "stdout",
     "output_type": "stream",
     "text": [
      "b\n",
      "[1, 'a']\n"
     ]
    }
   ],
   "source": [
    "# Gibt das 4. Listenelement zurück (Index der Elemente beginnt bei 0, nicht 1)\n",
    "print(list_a[3])\n",
    "\n",
    "# Gibt Listenelemente 2-3 zurück \n",
    "print(list_a[1:3])"
   ]
  },
  {
   "cell_type": "code",
   "execution_count": 8,
   "metadata": {},
   "outputs": [
    {
     "name": "stdout",
     "output_type": "stream",
     "text": [
      "{'key_a': 'value_a', 'key_b': 'value_b'}\n",
      "value_a\n"
     ]
    }
   ],
   "source": [
    "# Dictionary (Java Äquivalent: HashMap)\n",
    "# Ein Dictionary verbindet Werte mit einem Schlüssel. \n",
    "# Mit Hilfe des Schlüssels kann dann auf den Wert \n",
    "# zugegriffen werden.\n",
    "\n",
    "# Initialisierung\n",
    "dict_a = {'key_a': 'value_a'}\n",
    "\n",
    "# Element hinuzfügen\n",
    "dict_a['key_b'] = 'value_b'\n",
    "\n",
    "print(dict_a)\n",
    "\n",
    "# Zugriff auf bestimmten Wert\n",
    "print(dict_a['key_a'])"
   ]
  },
  {
   "cell_type": "code",
   "execution_count": 9,
   "metadata": {},
   "outputs": [
    {
     "name": "stdout",
     "output_type": "stream",
     "text": [
      "OrderedDict([('key_a', 'value_a'), ('key_b', 'value_b')])\n",
      "value_a\n"
     ]
    }
   ],
   "source": [
    "# OrderedDict (Java Äquivalent: LinkedHashMap)\n",
    "# Dictionary mit festgelegter Reihenfolge \n",
    "# (das ist bei Dictionary nicht zwangsläufig der Fall)\n",
    "# Reihenfolge entspricht der Zeitlichen abfolge des Hinzufügens.\n",
    "\n",
    "# Weil ein OrderedDict keine Standarddatenstruktur ist, \n",
    "# muss sie zuerst importiert werden\n",
    "from collections import OrderedDict\n",
    "\n",
    "# Erzeuge eine OrderedDict Instanz\n",
    "odict_a = OrderedDict()\n",
    "\n",
    "# Füge Eintragspaare hinzu\n",
    "odict_a['key_a'] = 'value_a'\n",
    "odict_a['key_b'] = 'value_b'\n",
    "\n",
    "print(odict_a)\n",
    "\n",
    "# Zugriff auf bestimmten Wert\n",
    "print(odict_a['key_a'])"
   ]
  },
  {
   "cell_type": "code",
   "execution_count": 10,
   "metadata": {},
   "outputs": [
    {
     "name": "stdout",
     "output_type": "stream",
     "text": [
      "OrderedDict([('key_a', 'value_a'), ('key_b', 'value_b')])\n"
     ]
    }
   ],
   "source": [
    "# Alternativ können die Eintragspaare \n",
    "# auch direkt dem Konstruktor übergeben werden\n",
    "\n",
    "# Erzeuge eine OrderedDict Instanz mit Werten\n",
    "odict_b = OrderedDict({'key_a' : 'value_a', 'key_b':'value_b'})\n",
    "print(odict_b)"
   ]
  },
  {
   "cell_type": "code",
   "execution_count": 11,
   "metadata": {},
   "outputs": [
    {
     "name": "stdout",
     "output_type": "stream",
     "text": [
      "value_a\n",
      "value_b\n"
     ]
    }
   ],
   "source": [
    "# Itteriere durch alle values im ODict\n",
    "\n",
    "for value in odict_a.values():\n",
    "    print(value)"
   ]
  },
  {
   "cell_type": "code",
   "execution_count": 12,
   "metadata": {},
   "outputs": [
    {
     "name": "stdout",
     "output_type": "stream",
     "text": [
      "key_a\n",
      "key_b\n"
     ]
    }
   ],
   "source": [
    "# Itteriere durch alle keys im ODict\n",
    "\n",
    "for key in odict_a.keys():\n",
    "    print(key)"
   ]
  },
  {
   "cell_type": "code",
   "execution_count": 13,
   "metadata": {},
   "outputs": [
    {
     "name": "stdout",
     "output_type": "stream",
     "text": [
      "key_a gehört zu value_a\n",
      "key_b gehört zu value_b\n"
     ]
    }
   ],
   "source": [
    "# Itteriere durch alle keys und values im ODict gleichzeitig\n",
    "\n",
    "for key,value in odict_a.items():\n",
    "    print(key + ' gehört zu ' + value)"
   ]
  },
  {
   "cell_type": "code",
   "execution_count": 14,
   "metadata": {},
   "outputs": [
    {
     "name": "stdout",
     "output_type": "stream",
     "text": [
      "OrderedDict([('key_a', 7), ('key_b', 'value_b')])\n"
     ]
    }
   ],
   "source": [
    "# ODicts können auch aus verschiedenen Datentypen bestehen\n",
    "\n",
    "odict_c = OrderedDict({'key_a' : 7, 'key_b':'value_b'})\n",
    "print(odict_c)"
   ]
  },
  {
   "cell_type": "markdown",
   "metadata": {},
   "source": [
    "#### 2. Klassen und Methoden"
   ]
  },
  {
   "cell_type": "code",
   "execution_count": 15,
   "metadata": {
    "collapsed": true
   },
   "outputs": [],
   "source": [
    "# Definition einer Klasse\n",
    "\n",
    "class Car():\n",
    "    # Klassenvariable\n",
    "    numb_wheels = 4\n",
    "    \n",
    "    # Konstruktor\n",
    "    # self ist die Instanz der Klasse und wird dem Konstruktor immer als\n",
    "    # erstes übergeben\n",
    "    def __init__(self, colour, numb_seats, driver_name = None):\n",
    "        self.my_colour = colour\n",
    "        self.my_numb_seats = numb_seats\n",
    "        self.my_driver = driver_name\n",
    "    "
   ]
  },
  {
   "cell_type": "code",
   "execution_count": 16,
   "metadata": {},
   "outputs": [
    {
     "name": "stdout",
     "output_type": "stream",
     "text": [
      "2\n",
      "7\n"
     ]
    }
   ],
   "source": [
    "# Instanziierung\n",
    "\n",
    "smart = Car('black',2)\n",
    "minivan = Car('red',7)\n",
    "\n",
    "print(smart.my_numb_seats)\n",
    "print(minivan.my_numb_seats)\n",
    "\n"
   ]
  },
  {
   "cell_type": "code",
   "execution_count": 17,
   "metadata": {},
   "outputs": [
    {
     "name": "stdout",
     "output_type": "stream",
     "text": [
      "8\n"
     ]
    }
   ],
   "source": [
    "# Die properties können auch im Nachhinnein noch verändert werden:\n",
    "minivan.my_numb_seats = 8\n",
    "print(minivan.my_numb_seats)"
   ]
  },
  {
   "cell_type": "code",
   "execution_count": 18,
   "metadata": {},
   "outputs": [
    {
     "name": "stdout",
     "output_type": "stream",
     "text": [
      "4\n",
      "4\n"
     ]
    }
   ],
   "source": [
    "# Klassenvariablen können sowohl über die Instanz als\n",
    "# als auch über die Klasse aufgerufen werden\n",
    "\n",
    "print(minivan.numb_wheels)\n",
    "print(Car.numb_wheels)"
   ]
  },
  {
   "cell_type": "code",
   "execution_count": 19,
   "metadata": {},
   "outputs": [
    {
     "name": "stdout",
     "output_type": "stream",
     "text": [
      "5\n"
     ]
    }
   ],
   "source": [
    "# Wird der Wert einer Klassenvariable verändert\n",
    "# so hat das Auswirkungen auf alle Instanzen der Klasse\n",
    "\n",
    "Car.numb_wheels = 5\n",
    "print(minivan.numb_wheels)"
   ]
  },
  {
   "cell_type": "code",
   "execution_count": 20,
   "metadata": {
    "collapsed": true
   },
   "outputs": [],
   "source": [
    "# Methoden innerhalb einer Klasse\n",
    "class Car():\n",
    "    # Klassenvariable\n",
    "    numb_wheels = 4\n",
    "    \n",
    "    # Konstruktor\n",
    "    # self ist die Instanz der Klasse und wird dem Konstruktor immer als\n",
    "    # erstes übergeben\n",
    "    def __init__(self, colour, numb_seats, driver_name = None):\n",
    "        self.my_colour = colour\n",
    "        self.my_numb_seats = numb_seats\n",
    "        self.my_driver = driver_name\n",
    "        \n",
    "    # Ab hier neu:\n",
    "    def ready_to_go(self):\n",
    "        if self.my_driver is not None:\n",
    "            return True\n",
    "        else:\n",
    "            return False"
   ]
  },
  {
   "cell_type": "code",
   "execution_count": 21,
   "metadata": {},
   "outputs": [
    {
     "name": "stdout",
     "output_type": "stream",
     "text": [
      "False\n",
      "True\n"
     ]
    }
   ],
   "source": [
    "smart_one = Car('black',2,)\n",
    "smart_two = Car('black',2,'Marcel')\n",
    "\n",
    "# Ausgabe des Rückgabewertrs (return) der Methode\n",
    "print(smart_one.ready_to_go())\n",
    "print(smart_two.ready_to_go())"
   ]
  },
  {
   "cell_type": "code",
   "execution_count": 22,
   "metadata": {
    "collapsed": true
   },
   "outputs": [],
   "source": [
    "# Methoden innerhalb einer Klasse können auch z.B. im Konstruktor \n",
    "# direkt verwendet werden\n",
    "class Car():\n",
    "    # Klassenvariable\n",
    "    numb_wheels = 4\n",
    "    \n",
    "    # Konstruktor\n",
    "    # self ist die Instanz der Klasse und wird dem Konstruktor immer als\n",
    "    # erstes übergeben\n",
    "    def __init__(self, colour, numb_seats, driver_name = None):\n",
    "        self.my_colour = colour\n",
    "        self.my_numb_seats = numb_seats\n",
    "        self.my_driver = driver_name\n",
    "        # Neu\n",
    "        self.can_go = self.ready_to_go()\n",
    "        \n",
    "    def ready_to_go(self):\n",
    "        if self.my_driver is not None:\n",
    "            return True\n",
    "        else:\n",
    "            return False"
   ]
  },
  {
   "cell_type": "code",
   "execution_count": 23,
   "metadata": {},
   "outputs": [
    {
     "name": "stdout",
     "output_type": "stream",
     "text": [
      "False\n",
      "True\n"
     ]
    }
   ],
   "source": [
    "smart_one = Car('black',2,)\n",
    "smart_two = Car('black',2,'Marcel')\n",
    "\n",
    "# Diesmal wird das Property ausgegeben\n",
    "print(smart_one.can_go)\n",
    "print(smart_two.can_go)"
   ]
  }
 ],
 "metadata": {
  "kernelspec": {
   "display_name": "Python [conda env:fed_coin_v1]",
   "language": "python",
   "name": "conda-env-fed_coin_v1-py"
  },
  "language_info": {
   "codemirror_mode": {
    "name": "ipython",
    "version": 3
   },
   "file_extension": ".py",
   "mimetype": "text/x-python",
   "name": "python",
   "nbconvert_exporter": "python",
   "pygments_lexer": "ipython3",
   "version": "3.6.5"
  }
 },
 "nbformat": 4,
 "nbformat_minor": 2
}
